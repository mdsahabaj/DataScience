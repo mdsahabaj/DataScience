{
 "cells": [
  {
   "cell_type": "code",
   "execution_count": 2,
   "metadata": {},
   "outputs": [
    {
     "name": "stdout",
     "output_type": "stream",
     "text": [
      "Requirement already satisfied: beautifulsoup4 in /home/md/anaconda3/lib/python3.8/site-packages (4.9.3)\n",
      "Requirement already satisfied: soupsieve>1.2; python_version >= \"3.0\" in /home/md/anaconda3/lib/python3.8/site-packages (from beautifulsoup4) (2.0.1)\n",
      "Note: you may need to restart the kernel to use updated packages.\n"
     ]
    }
   ],
   "source": [
    "pip install beautifulsoup4 #install enviroment\n",
    "pip install requests       #requests is used for send page request to server and download the page \n",
    "                          #beautifulsoup is used for create object of that page"
   ]
  },
  {
   "cell_type": "code",
   "execution_count": 11,
   "metadata": {},
   "outputs": [],
   "source": [
    "import sys   #import the libraries and files\n",
    "import time\n",
    "from bs4 import BeautifulSoup\n",
    "import requests"
   ]
  },
  {
   "cell_type": "code",
   "execution_count": 13,
   "metadata": {},
   "outputs": [],
   "source": [
    "try :                                                  #Loading the page using try catch block incase there is some error we get\n",
    "    page=requests.get(\"https://www.cricbuzz.com/\")\n",
    "except exception as e:\n",
    "    error_type,error_info,error_obl=sys.exc_info()\n",
    "    print(\"error url\",url)\n",
    "    print(error_typr,\"line\",error_info.tb_lineno)\n",
    "time.sleep(2)                                       #sleep is used for stop continously sending request to the server \n",
    "                                                    #otherwise server identifiy your python program as a bot\n",
    "\n",
    "soup=BeautifulSoup(page.text,'html.parser') #creating object of that page\n",
    "\n"
   ]
  },
  {
   "cell_type": "code",
   "execution_count": 14,
   "metadata": {},
   "outputs": [
    {
     "data": {
      "text/plain": [
       "<Response [200]>"
      ]
     },
     "execution_count": 14,
     "metadata": {},
     "output_type": "execute_result"
    }
   ],
   "source": [
    "\n",
    "page #checking for succesfully load that page or not"
   ]
  },
  {
   "cell_type": "code",
   "execution_count": 21,
   "metadata": {},
   "outputs": [],
   "source": [
    "links=soup.find_all('div', attrs={'class':\"cb-col-100 cb-lst-itm cb-lst-itm-sm\"}) # extract tags and store in list\n"
   ]
  },
  {
   "cell_type": "code",
   "execution_count": 27,
   "metadata": {},
   "outputs": [
    {
     "name": "stdout",
     "output_type": "stream",
     "text": [
      "Probably self-explanatory: Bancroft hints bowlers were aware of ball tampering at Newlands2h ago \n",
      "\n",
      "Shafali Varma gets maiden ODI call-up; Taniya, Shikha return14h ago \n",
      "\n",
      "England to announce Test squad next week with availability of IPL players uncertain15h ago \n",
      "\n",
      "WV Raman writes to Ganguly, Dravid; scathing in assessment16h ago \n",
      "\n",
      "CSA set to begin hearings for 'Social Justice and Nation-Building' project17h ago \n",
      "\n",
      "West Indies confirm visits of South Africa, Australia and Pakistan in 202119h ago \n",
      "\n",
      "Shakib set to return to No.3 against Sri Lanka19h ago \n",
      "\n",
      " Harry Gurney retires due to long-standing shoulder injury20h ago \n",
      "\n",
      "Daryl Mitchell, Glenn Phillips earn NZC central contracts1d ago \n",
      "\n",
      "Selectors expect me to take responsibility: Kusal Perera1d ago \n",
      "\n",
      "   PBKS vs DC, Match 29, IPL 2021 Sun, May 02 2021   \n",
      "\n",
      "   RR vs SRH, Match 28, IPL 2021 Sun, May 02 2021   \n",
      "\n",
      "   MI vs CSK, Match 27, IPL 2021 Sat, May 01 2021   \n",
      "\n",
      "   PBKS vs RCB, 26th Match, IPL 2021 Fri, Apr 30 2021   \n",
      "\n",
      "   DC vs KKR, Match 25, IPL 2021 Thu, Apr 29 2021   \n",
      "\n",
      "   MI vs RR, Match 24, IPL 2021 Thu, Apr 29 2021   \n",
      "\n",
      " Netherlands vs Scotland, 1st ODI  •  GMT  \n",
      "\n",
      " Netherlands vs Scotland, 2nd ODI  •  GMT  \n",
      "\n",
      " Bangladesh vs Sri Lanka, 1st ODI  •  GMT  \n",
      "\n",
      " Somerset vs New Zealand, 4-day Practice Match, Day 1  •  GMT  \n",
      "\n",
      " Bangladesh vs Sri Lanka, 2nd ODI  •  GMT  \n",
      "\n",
      " Somerset vs New Zealand, 4-day Practice Match, Day 2  •  GMT  \n",
      "\n",
      " Somerset vs New Zealand, 4-day Practice Match, Day 3  •  GMT  \n",
      "\n",
      " Somerset vs New Zealand, 4-day Practice Match, Day 4  •  GMT  \n",
      "\n",
      " Bangladesh vs Sri Lanka, 3rd ODI  •  GMT  \n",
      "\n"
     ]
    }
   ],
   "source": [
    "for i in links:           #printing that text\n",
    "    print(i.text,'\\n')"
   ]
  },
  {
   "cell_type": "code",
   "execution_count": null,
   "metadata": {},
   "outputs": [],
   "source": []
  }
 ],
 "metadata": {
  "kernelspec": {
   "display_name": "Python 3",
   "language": "python",
   "name": "python3"
  },
  "language_info": {
   "codemirror_mode": {
    "name": "ipython",
    "version": 3
   },
   "file_extension": ".py",
   "mimetype": "text/x-python",
   "name": "python",
   "nbconvert_exporter": "python",
   "pygments_lexer": "ipython3",
   "version": "3.8.5"
  }
 },
 "nbformat": 4,
 "nbformat_minor": 4
}
